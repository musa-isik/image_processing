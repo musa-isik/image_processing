{
 "cells": [
  {
   "cell_type": "markdown",
   "id": "5e98d66c-6474-414c-b7b4-e32384943f8f",
   "metadata": {},
   "source": [
    "# Obje Takibi"
   ]
  },
  {
   "cell_type": "code",
   "execution_count": 1,
   "id": "9f63d44a-9442-4be2-9ffa-0d193e6d7048",
   "metadata": {
    "tags": []
   },
   "outputs": [],
   "source": [
    "import cv2\n",
    "import time\n",
    "import mediapipe as mp"
   ]
  },
  {
   "cell_type": "code",
   "execution_count": 2,
   "id": "f8ad8e8c-7b95-430e-a350-c02315c3deca",
   "metadata": {
    "tags": []
   },
   "outputs": [],
   "source": [
    "capture = cv2.VideoCapture(0)"
   ]
  },
  {
   "cell_type": "code",
   "execution_count": null,
   "id": "0b277bfd-536f-4084-bfcb-f5c7a5cc3784",
   "metadata": {},
   "outputs": [],
   "source": [
    "width = int(capture.get(cv2.CAP_PROP_FRAME_WIDTH))\n",
    "height = int(capture.get(cv2.CAP_PROP_FRAME_HEIGHT))"
   ]
  }
 ],
 "metadata": {
  "kernelspec": {
   "display_name": "Python 3 (ipykernel)",
   "language": "python",
   "name": "python3"
  },
  "language_info": {
   "codemirror_mode": {
    "name": "ipython",
    "version": 3
   },
   "file_extension": ".py",
   "mimetype": "text/x-python",
   "name": "python",
   "nbconvert_exporter": "python",
   "pygments_lexer": "ipython3",
   "version": "3.10.9"
  }
 },
 "nbformat": 4,
 "nbformat_minor": 5
}
